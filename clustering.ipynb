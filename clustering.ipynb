{
 "cells": [
  {
   "cell_type": "markdown",
   "id": "74b23461",
   "metadata": {},
   "source": [
    "# Akansha's dataset"
   ]
  },
  {
   "cell_type": "code",
   "execution_count": 6,
   "id": "c235dbf5",
   "metadata": {},
   "outputs": [
    {
     "ename": "FileNotFoundError",
     "evalue": "[Errno 2] No such file or directory: './data'",
     "output_type": "error",
     "traceback": [
      "\u001b[0;31m---------------------------------------------------------------------------\u001b[0m",
      "\u001b[0;31mFileNotFoundError\u001b[0m                         Traceback (most recent call last)",
      "Input \u001b[0;32mIn [6]\u001b[0m, in \u001b[0;36m<cell line: 28>\u001b[0;34m()\u001b[0m\n\u001b[1;32m     26\u001b[0m \u001b[38;5;66;03m# Load single-cell methylation data\u001b[39;00m\n\u001b[1;32m     27\u001b[0m data_directory \u001b[38;5;241m=\u001b[39m \u001b[38;5;124m\"\u001b[39m\u001b[38;5;124m./data\u001b[39m\u001b[38;5;124m\"\u001b[39m  \u001b[38;5;66;03m# Replace with the path to your single-cell files directory\u001b[39;00m\n\u001b[0;32m---> 28\u001b[0m data_files \u001b[38;5;241m=\u001b[39m [os\u001b[38;5;241m.\u001b[39mpath\u001b[38;5;241m.\u001b[39mjoin(data_directory, file) \u001b[38;5;28;01mfor\u001b[39;00m file \u001b[38;5;129;01min\u001b[39;00m \u001b[43mos\u001b[49m\u001b[38;5;241;43m.\u001b[39;49m\u001b[43mlistdir\u001b[49m\u001b[43m(\u001b[49m\u001b[43mdata_directory\u001b[49m\u001b[43m)\u001b[49m]\n\u001b[1;32m     30\u001b[0m \u001b[38;5;66;03m# Read methylation levels from each file into a DataFrame\u001b[39;00m\n\u001b[1;32m     31\u001b[0m methylation_data \u001b[38;5;241m=\u001b[39m pd\u001b[38;5;241m.\u001b[39mDataFrame({os\u001b[38;5;241m.\u001b[39mpath\u001b[38;5;241m.\u001b[39mbasename(file)\u001b[38;5;241m.\u001b[39msplit(\u001b[38;5;124m\"\u001b[39m\u001b[38;5;124m.\u001b[39m\u001b[38;5;124m\"\u001b[39m)[\u001b[38;5;241m0\u001b[39m]: process_single_cell_file(file) \u001b[38;5;28;01mfor\u001b[39;00m file \u001b[38;5;129;01min\u001b[39;00m data_files})\n",
      "\u001b[0;31mFileNotFoundError\u001b[0m: [Errno 2] No such file or directory: './data'"
     ]
    }
   ],
   "source": [
    "import os\n",
    "import pandas as pd\n",
    "import matplotlib.pyplot as plt\n",
    "from sklearn.cluster import KMeans\n",
    "from sklearn.preprocessing import StandardScaler\n",
    "from sklearn.decomposition import PCA\n",
    "\n",
    "# Function to calculate methylation level from a single-cell file\n",
    "def process_single_cell_file(file_path):\n",
    "    column_names = [\"chr\", \"start_pos\", \"end_pos\", \"bin_id\", \"methylated_read_count\", \"total_read_count\"]\n",
    "    cell_data = pd.read_csv(file_path, sep=\"\\t\", header=None, names=column_names)\n",
    "\n",
    "    # Replace dots with zeros\n",
    "    cell_data = cell_data.replace(\".\", 0)\n",
    "\n",
    "    # Convert methylated_read_count and total_read_count columns to numeric\n",
    "    cell_data[[\"methylated_read_count\", \"total_read_count\"]] = cell_data[[\"methylated_read_count\", \"total_read_count\"]].apply(pd.to_numeric)\n",
    "\n",
    "    # Calculate methylation level\n",
    "    cell_data[\"methylation_level\"] = cell_data[\"methylated_read_count\"] / cell_data[\"total_read_count\"]\n",
    "    cell_data[\"methylation_level\"].fillna(0, inplace=True)\n",
    "\n",
    "    # Return methylation levels as a series\n",
    "    return cell_data[\"methylation_level\"]\n",
    "\n",
    "# Load single-cell methylation data\n",
    "data_directory = \"/work/magroup/ruochiz/Data/scHiC_collection/m3c_mouse_brain/methyl/500kb\"  # Replace with the path to your single-cell files directory\n",
    "data_files = [os.path.join(data_directory, file) for file in os.listdir(data_directory)]\n",
    "\n",
    "# Read methylation levels from each file into a DataFrame\n",
    "methylation_data = pd.DataFrame({os.path.basename(file).split(\".\")[0]: process_single_cell_file(file) for file in data_files})\n",
    "\n",
    "# Transpose the DataFrame, so each row represents a single cell\n",
    "methylation_data = methylation_data.transpose()\n",
    "\n",
    "# Scaling\n",
    "scaler = StandardScaler()\n",
    "scaled_data = scaler.fit_transform(methylation_data)\n",
    "\n",
    "# PCA\n",
    "pca = PCA(n_components=20)\n",
    "pca_data = pca.fit_transform(scaled_data)\n",
    "\n",
    "# KMeans clustering\n",
    "n_clusters = 5  # Adjust the number of clusters\n",
    "kmeans = KMeans(n_clusters=n_clusters, random_state=0)\n",
    "clusters = kmeans.fit_predict(pca_data)\n",
    "\n",
    "# Plot the clusters\n",
    "plt.scatter(pca_data[:, 0], pca_data[:, 1], c=clusters, cmap=\"viridis\")\n",
    "plt.xlabel(\"PC1\")\n",
    "plt.ylabel(\"PC2\")\n",
    "plt.title(\"KMeans Clustering of Single-Cell Methylation Data (PCA)\")\n",
    "plt.savefig('single_cell_clusters.png',dpi=300,bbox_inches='tight')\n",
    "plt.show()\n",
    "\n"
   ]
  },
  {
   "cell_type": "code",
   "execution_count": 9,
   "id": "f06566fb",
   "metadata": {},
   "outputs": [],
   "source": [
    "! ls"
   ]
  },
  {
   "cell_type": "markdown",
   "id": "168f32f9",
   "metadata": {},
   "source": [
    "# The following block is for Bigger dataset without hiC\n",
    "### Ignore for now."
   ]
  },
  {
   "cell_type": "code",
   "execution_count": null,
   "id": "5f3adcac",
   "metadata": {},
   "outputs": [],
   "source": [
    "#import module\n",
    "import tarfile\n",
    "import gzip\n",
    "from io import BytesIO\n",
    "import pandas as pd\n",
    "#declare filename\n",
    "filename= \"GSE131354_RAW (1).tar\"\n",
    " \n",
    "#open file in write mode\n",
    "file_obj= tarfile.open(filename,\"r\")\n",
    " \n",
    "# get the names of files in tar file\n",
    "namelist=file_obj.getnames()\n",
    "print(namelist)\n",
    "#print the filenames\n",
    "print(\"files in the tar file are:\")\n",
    "for name in namelist[:1]:\n",
    "    print(name)\n",
    "    if name.endswith('.gz'):\n",
    "        print(f'Reading file: {name}')\n",
    "\n",
    "        # Extract the .gz file from the .tar archive\n",
    "        extracted_file = file_obj.extractfile(name)\n",
    "\n",
    "        # Open the .gz file using gzip\n",
    "        with gzip.open(BytesIO(extracted_file.read()), 'rt') as gz_file:\n",
    "            # Read the contents of the .gz file\n",
    "            df = pd.read_csv(gz_file, sep='\\t',header=None)\n",
    "            print(df.head())\n",
    "            df.columns = ['chrom','pos','strand','seq','methylated','unmethylated','state']\n",
    "            print(df['chrom'].unique())\n",
    "            \n",
    "            # Do something with the content, e.g., print the first 100 characters\n",
    "            #print(f'Content of {name} (last 1000 characters):\\n{file_content[:1000]}\\n')\n",
    "#close file\n",
    "file_obj.close()"
   ]
  }
 ],
 "metadata": {
  "kernelspec": {
   "display_name": "Python 3 (ipykernel)",
   "language": "python",
   "name": "python3"
  },
  "language_info": {
   "codemirror_mode": {
    "name": "ipython",
    "version": 3
   },
   "file_extension": ".py",
   "mimetype": "text/x-python",
   "name": "python",
   "nbconvert_exporter": "python",
   "pygments_lexer": "ipython3",
   "version": "3.9.13"
  }
 },
 "nbformat": 4,
 "nbformat_minor": 5
}
